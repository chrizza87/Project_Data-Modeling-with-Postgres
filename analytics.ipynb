{
 "metadata": {
  "language_info": {
   "codemirror_mode": {
    "name": "ipython",
    "version": 3
   },
   "file_extension": ".py",
   "mimetype": "text/x-python",
   "name": "python",
   "nbconvert_exporter": "python",
   "pygments_lexer": "ipython3",
   "version": "3.8.2-final"
  },
  "orig_nbformat": 2,
  "kernelspec": {
   "name": "python3",
   "display_name": "Python 3.8.2 64-bit",
   "metadata": {
    "interpreter": {
     "hash": "aee8b7b246df8f9039afb4144a1f6fd8d2ca17a180786b69acc140d282b71a49"
    }
   }
  }
 },
 "nbformat": 4,
 "nbformat_minor": 2,
 "cells": [
  {
   "source": [
    "# Analytics"
   ],
   "cell_type": "markdown",
   "metadata": {}
  },
  {
   "cell_type": "code",
   "execution_count": 7,
   "metadata": {},
   "outputs": [],
   "source": [
    "import os\n",
    "import glob\n",
    "import psycopg2\n",
    "import pandas as pd"
   ]
  },
  {
   "cell_type": "code",
   "execution_count": 8,
   "metadata": {},
   "outputs": [],
   "source": [
    "conn = psycopg2.connect(\"host=127.0.0.1 dbname=sparkifydb user=student password=student\")\n",
    "cur = conn.cursor()"
   ]
  },
  {
   "source": [
    "## #1 Show overview of played songs for free/paid customers"
   ],
   "cell_type": "markdown",
   "metadata": {}
  },
  {
   "cell_type": "code",
   "execution_count": 9,
   "metadata": {},
   "outputs": [
    {
     "output_type": "execute_result",
     "data": {
      "text/plain": [
       "   count_level_free  count_level_paid\n",
       "0                 0                 1"
      ],
      "text/html": "<div>\n<style scoped>\n    .dataframe tbody tr th:only-of-type {\n        vertical-align: middle;\n    }\n\n    .dataframe tbody tr th {\n        vertical-align: top;\n    }\n\n    .dataframe thead th {\n        text-align: right;\n    }\n</style>\n<table border=\"1\" class=\"dataframe\">\n  <thead>\n    <tr style=\"text-align: right;\">\n      <th></th>\n      <th>count_level_free</th>\n      <th>count_level_paid</th>\n    </tr>\n  </thead>\n  <tbody>\n    <tr>\n      <th>0</th>\n      <td>0</td>\n      <td>1</td>\n    </tr>\n  </tbody>\n</table>\n</div>"
     },
     "metadata": {},
     "execution_count": 9
    }
   ],
   "source": [
    "query = \"\"\"\n",
    "SELECT sum(case when level = 'free' then 1 else 0 end) as count_level_free,\n",
    "       sum(case when level = 'paid' then 1 else 0 end) as count_level_paid\n",
    "FROM songplays\n",
    "\"\"\"\n",
    "\n",
    "df = pd.read_sql_query(query,conn)\n",
    "df.head()\n"
   ]
  },
  {
   "source": [
    "## #2 Show overview of female and male customers"
   ],
   "cell_type": "markdown",
   "metadata": {}
  },
  {
   "cell_type": "code",
   "execution_count": 10,
   "metadata": {},
   "outputs": [
    {
     "output_type": "execute_result",
     "data": {
      "text/plain": [
       "   count_female  count_male\n",
       "0            55          41"
      ],
      "text/html": "<div>\n<style scoped>\n    .dataframe tbody tr th:only-of-type {\n        vertical-align: middle;\n    }\n\n    .dataframe tbody tr th {\n        vertical-align: top;\n    }\n\n    .dataframe thead th {\n        text-align: right;\n    }\n</style>\n<table border=\"1\" class=\"dataframe\">\n  <thead>\n    <tr style=\"text-align: right;\">\n      <th></th>\n      <th>count_female</th>\n      <th>count_male</th>\n    </tr>\n  </thead>\n  <tbody>\n    <tr>\n      <th>0</th>\n      <td>55</td>\n      <td>41</td>\n    </tr>\n  </tbody>\n</table>\n</div>"
     },
     "metadata": {},
     "execution_count": 10
    }
   ],
   "source": [
    "query = \"\"\"\n",
    "SELECT sum(case when gender = 'F' then 1 else 0 end) as count_female,\n",
    "       sum(case when gender = 'M' then 1 else 0 end) as count_male\n",
    "FROM users\n",
    "\"\"\"\n",
    "\n",
    "df = pd.read_sql_query(query,conn)\n",
    "df.head()"
   ]
  },
  {
   "source": [
    "## #3 Show top 10 locations of the artists"
   ],
   "cell_type": "markdown",
   "metadata": {}
  },
  {
   "cell_type": "code",
   "execution_count": 11,
   "metadata": {},
   "outputs": [
    {
     "output_type": "execute_result",
     "data": {
      "text/plain": [
       "                      location\n",
       "0                 Beaumont, TX\n",
       "1            Beverly Hills, CA\n",
       "2                      Brandon\n",
       "3  Burlington, Ontario, Canada\n",
       "4              California - LA\n",
       "5              California - SF\n",
       "6                      Chicago\n",
       "7                  Chicago, IL\n",
       "8                      Denmark\n",
       "9                    Dubai UAE"
      ],
      "text/html": "<div>\n<style scoped>\n    .dataframe tbody tr th:only-of-type {\n        vertical-align: middle;\n    }\n\n    .dataframe tbody tr th {\n        vertical-align: top;\n    }\n\n    .dataframe thead th {\n        text-align: right;\n    }\n</style>\n<table border=\"1\" class=\"dataframe\">\n  <thead>\n    <tr style=\"text-align: right;\">\n      <th></th>\n      <th>location</th>\n    </tr>\n  </thead>\n  <tbody>\n    <tr>\n      <th>0</th>\n      <td>Beaumont, TX</td>\n    </tr>\n    <tr>\n      <th>1</th>\n      <td>Beverly Hills, CA</td>\n    </tr>\n    <tr>\n      <th>2</th>\n      <td>Brandon</td>\n    </tr>\n    <tr>\n      <th>3</th>\n      <td>Burlington, Ontario, Canada</td>\n    </tr>\n    <tr>\n      <th>4</th>\n      <td>California - LA</td>\n    </tr>\n    <tr>\n      <th>5</th>\n      <td>California - SF</td>\n    </tr>\n    <tr>\n      <th>6</th>\n      <td>Chicago</td>\n    </tr>\n    <tr>\n      <th>7</th>\n      <td>Chicago, IL</td>\n    </tr>\n    <tr>\n      <th>8</th>\n      <td>Denmark</td>\n    </tr>\n    <tr>\n      <th>9</th>\n      <td>Dubai UAE</td>\n    </tr>\n  </tbody>\n</table>\n</div>"
     },
     "metadata": {},
     "execution_count": 11
    }
   ],
   "source": [
    "query = \"\"\"\n",
    "SELECT DISTINCT location \n",
    "FROM artists \n",
    "WHERE location <> '' \n",
    "ORDER BY location\n",
    "\"\"\"\n",
    "\n",
    "df = pd.read_sql_query(query,conn)\n",
    "df.head(10)"
   ]
  },
  {
   "cell_type": "code",
   "execution_count": 12,
   "metadata": {},
   "outputs": [],
   "source": [
    "conn.close()"
   ]
  }
 ]
}